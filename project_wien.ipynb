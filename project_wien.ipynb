{
 "cells": [
  {
   "cell_type": "markdown",
   "id": "unsigned-invalid",
   "metadata": {},
   "source": [
    "# Schmerzgrenze der Wiener\n",
    "\n",
    "### Vision\n",
    "This Project aims to correlate, visualize and find patterns regarding the developments in the Viennese public transport grid and gauging public sentiment in correlation to such incidents. \n"
   ]
  },
  {
   "cell_type": "markdown",
   "id": "adverse-michigan",
   "metadata": {},
   "source": [
    "\n",
    "### Team Members\n",
    "Julian Deleja-Hotko\\\n",
    "Nicolas Markl\\\n",
    "Dionis Ramadani"
   ]
  },
  {
   "cell_type": "markdown",
   "id": "naval-stream",
   "metadata": {},
   "source": [
    "### Data Sources\n",
    "**// TODO: DIE VERSCHIEDENEN DATEN GENAUER BESCHREIBEN**\n",
    "\n",
    "##### [Digitales Wien / Open Government Data Portal Wien](https://digitales.wien.gv.at/open-data/) - REST Endpoint\n",
    "Several hundred data sets provide detailed information about one-way streets, real-time information from Wiener Linien, historical aerial photographs, measurement data of air pollutants or WLAN locations, to name just a few areas.\n",
    "\n",
    "##### [Öffi.at](öffi.at)  - XML / Web Scraping\n",
    "A website gathering and organizing historical data about Wiener Linien outages, courtesy of Klaus Kirnbauer. \n",
    "\n",
    "##### [Twitter@WienerLinien](https://twitter.com/wienerlinien) - Web Scraping\n",
    "A social media platform popular in Vienna with dedicated accounts from public service providers, useful for gauging sentiment about specific routes in Vienna\n",
    "\n",
    "##### [data.gv.at](data.gv.at) - Flat Files\n",
    "Gathering general info about the public transport network, usage, etc.\n",
    "\n"
   ]
  },
  {
   "cell_type": "markdown",
   "id": "greater-pension",
   "metadata": {},
   "source": [
    "### Architecture Diagram\n",
    "**//TODO: Hier Architekturdiagramm (verpflichtend)**"
   ]
  },
  {
   "cell_type": "markdown",
   "id": "silver-cooking",
   "metadata": {},
   "source": [
    "### Packages\n",
    "Here we'll install and import all relevant Python packages for this project"
   ]
  },
  {
   "cell_type": "code",
   "execution_count": 7,
   "id": "dietary-coalition",
   "metadata": {},
   "outputs": [
    {
     "name": "stdout",
     "output_type": "stream",
     "text": [
      "Requirement already satisfied: pymongo in /opt/ipnb/lib/python3.8/site-packages (4.1.1)\n",
      "\u001b[33mWARNING: You are using pip version 21.0.1; however, version 22.1.2 is available.\n",
      "You should consider upgrading via the '/opt/ipnb/bin/python3.8 -m pip install --upgrade pip' command.\u001b[0m\n",
      "Requirement already satisfied: pyspark in /opt/ipnb/lib/python3.8/site-packages (3.2.1)\n",
      "Requirement already satisfied: py4j==0.10.9.3 in /opt/ipnb/lib/python3.8/site-packages (from pyspark) (0.10.9.3)\n",
      "\u001b[33mWARNING: You are using pip version 21.0.1; however, version 22.1.2 is available.\n",
      "You should consider upgrading via the '/opt/ipnb/bin/python3.8 -m pip install --upgrade pip' command.\u001b[0m\n"
     ]
    }
   ],
   "source": [
    "!pip install pymongo\n",
    "!pip install pyspark"
   ]
  },
  {
   "cell_type": "code",
   "execution_count": 10,
   "id": "weekly-conditions",
   "metadata": {},
   "outputs": [],
   "source": [
    "from pymongo import MongoClient;\n",
    "from pyspark import SparkContext;"
   ]
  },
  {
   "cell_type": "markdown",
   "id": "brown-demographic",
   "metadata": {},
   "source": [
    "### Data Storage and Processing\n",
    "The data will be collected and processed via Kafka, analyzed with Spark and all the relevant data will be stored on our MongoDB instance after an ETL-style pipeline.\n"
   ]
  },
  {
   "cell_type": "markdown",
   "id": "greek-bradley",
   "metadata": {},
   "source": [
    "##### Setting up DB connection"
   ]
  },
  {
   "cell_type": "code",
   "execution_count": null,
   "id": "possible-lobby",
   "metadata": {},
   "outputs": [],
   "source": [
    "# Provide the mongodb connection string\n",
    "CONNECTION_STRING = \"mongodb://10.0.0.60:27017\";\n",
    "\n",
    "# Create a connection using MongoClient\n",
    "myclient = MongoClient(CONNECTION_STRING);\n",
    "\n",
    "# Check DB \n",
    "for db in myclient.list_databases():\n",
    "    print(db);"
   ]
  },
  {
   "cell_type": "markdown",
   "id": "reported-victoria",
   "metadata": {},
   "source": [
    "##### Setting up Spark via SparkContext"
   ]
  },
  {
   "cell_type": "code",
   "execution_count": 12,
   "id": "extraordinary-school",
   "metadata": {},
   "outputs": [],
   "source": [
    "sc = SparkContext.getOrCreate();"
   ]
  },
  {
   "cell_type": "markdown",
   "id": "british-weather",
   "metadata": {},
   "source": [
    "\n",
    "### Output\n",
    "Graphs, maps and heatmaps showing / highlighting patterns and outages of the Viennese public transport system."
   ]
  }
 ],
 "metadata": {
  "kernelspec": {
   "display_name": "Pyspark (Py3)",
   "language": "",
   "name": "pyspark"
  },
  "language_info": {
   "codemirror_mode": {
    "name": "ipython",
    "version": 3
   },
   "file_extension": ".py",
   "mimetype": "text/x-python",
   "name": "python",
   "nbconvert_exporter": "python",
   "pygments_lexer": "ipython3",
   "version": "3.8.5"
  }
 },
 "nbformat": 4,
 "nbformat_minor": 5
}
